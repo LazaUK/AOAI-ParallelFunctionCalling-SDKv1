{
 "cells": [
  {
   "attachments": {},
   "cell_type": "markdown",
   "metadata": {},
   "source": [
    "# Azure OpenAI - multi-function calling, using openai Python package v1.x"
   ]
  },
  {
   "cell_type": "markdown",
   "metadata": {},
   "source": [
    "### 1. Testing connectivity to Vehicle APIs\n",
    "You need to start companion Flask Web app, by executing \"python -m flask run\" command."
   ]
  },
  {
   "cell_type": "code",
   "execution_count": 1,
   "metadata": {},
   "outputs": [],
   "source": [
    "# Importing required packages\n",
    "import requests\n",
    "\n",
    "# Defining Vehicle API endpoint\n",
    "VEHICLE_URL = \"http://localhost:5000\""
   ]
  },
  {
   "cell_type": "code",
   "execution_count": 2,
   "metadata": {},
   "outputs": [
    {
     "name": "stdout",
     "output_type": "stream",
     "text": [
      "{'airconditioner': 'OFF', 'lights': 'OFF', 'radio': 'OFF', 'windows': 'DOWN'}\n"
     ]
    }
   ],
   "source": [
    "# Checking the vehicle status\n",
    "vehicle_api = f\"{VEHICLE_URL}/status\"\n",
    "\n",
    "vehicle_status = requests.get(vehicle_api)\n",
    "print(vehicle_status.json())"
   ]
  },
  {
   "cell_type": "code",
   "execution_count": 3,
   "metadata": {},
   "outputs": [],
   "source": [
    "# Helper function to manage the vehicle controls\n",
    "def vehicle_control(feature, action, status):\n",
    "    vehicle_control_api = f\"{VEHICLE_URL}/{feature}\"\n",
    "    headers = {\"Content-Type\": \"application/json\"}\n",
    "    data = {action: status}\n",
    "    vehicle_control_status = requests.post(\n",
    "        vehicle_control_api,\n",
    "        headers = headers,\n",
    "        json = data\n",
    "    )\n",
    "    function_response = vehicle_control_status.json()\n",
    "    return function_response"
   ]
  },
  {
   "cell_type": "code",
   "execution_count": 4,
   "metadata": {},
   "outputs": [
    {
     "data": {
      "text/plain": [
       "{'airconditioner': 'ON'}"
      ]
     },
     "execution_count": 4,
     "metadata": {},
     "output_type": "execute_result"
    }
   ],
   "source": [
    "# Switching on the vehicle's air conditioner\n",
    "vehicle_control(\"airconditioner\", \"switch\", \"ON\")"
   ]
  },
  {
   "cell_type": "markdown",
   "metadata": {},
   "source": [
    "### 2. Defining available functions"
   ]
  },
  {
   "cell_type": "code",
   "execution_count": 5,
   "metadata": {},
   "outputs": [],
   "source": [
    "# Set of function tools\n",
    "tools = [\n",
    "    {\n",
    "        \"type\": \"function\",\n",
    "        \"function\": {\n",
    "            \"name\": \"set_vehicle_feature_on_off\",\n",
    "            \"description\": \"Set or switch features like air conditioner, lights and radio on or off\",\n",
    "            \"parameters\": {\n",
    "                \"type\": \"object\",\n",
    "                \"properties\": {\n",
    "                    \"feature\": {\n",
    "                        \"type\": \"string\",\n",
    "                        \"enum\": [\"airconditioner\", \"lights\", \"radio\"]\n",
    "                    },\n",
    "                    \"status\": {\n",
    "                        \"type\": \"string\",\n",
    "                        \"enum\": [\"on\", \"off\"]\n",
    "                    },\n",
    "                },\n",
    "                \"required\": [\"feature\", \"status\"]\n",
    "            }\n",
    "        }\n",
    "    },\n",
    "    {\n",
    "        \"type\": \"function\",\n",
    "        \"function\": {\n",
    "            \"name\": \"set_vehicle_feature_up_down\",\n",
    "            \"description\": \"Set or roll features like windows up or down\",\n",
    "            \"parameters\": {\n",
    "                \"type\": \"object\",\n",
    "                \"properties\": {\n",
    "                    \"feature\": {\n",
    "                        \"type\": \"string\",\n",
    "                        \"enum\": [\"windows\"]\n",
    "                    },\n",
    "                    \"status\": {\n",
    "                        \"type\": \"string\",\n",
    "                        \"enum\": [\"up\", \"down\"]\n",
    "                    },\n",
    "                },\n",
    "                \"required\": [\"feature\", \"status\"]\n",
    "            }\n",
    "        }\n",
    "    }\n",
    "]"
   ]
  },
  {
   "cell_type": "code",
   "execution_count": 6,
   "metadata": {},
   "outputs": [],
   "source": [
    "# Declaring available functions\n",
    "available_functions = {\n",
    "    \"set_vehicle_feature_on_off\": vehicle_control,\n",
    "    \"set_vehicle_feature_up_down\": vehicle_control\n",
    "}"
   ]
  },
  {
   "cell_type": "markdown",
   "metadata": {},
   "source": [
    "### 3. Configuring parallel functions calling"
   ]
  },
  {
   "cell_type": "code",
   "execution_count": 7,
   "metadata": {},
   "outputs": [],
   "source": [
    "\"\"\"\n",
    "Define Azure OpenAI endpoint parameters\n",
    "    - Set AOAI API Version to env variable OPENAI_API_VERSION\n",
    "    - Set AOAI API Endpoint to env variable OPENAI_API_BASE\n",
    "    - Set AOAI API Key to env variable OPENAI_API_KEY\n",
    "    - Set AOAI Deployment Name to env variable OPENAI_API_DEPLOY\n",
    "\"\"\"\n",
    "\n",
    "# Importing required packages\n",
    "from openai import AzureOpenAI\n",
    "import os\n",
    "import json"
   ]
  },
  {
   "cell_type": "code",
   "execution_count": 8,
   "metadata": {},
   "outputs": [],
   "source": [
    "# Initiating Azure OpenAI client\n",
    "client = AzureOpenAI(\n",
    "    azure_endpoint = os.getenv(\"OPENAI_API_BASE\"),\n",
    "    api_key = os.getenv(\"OPENAI_API_KEY\"),\n",
    "    api_version = os.getenv(\"OPENAI_API_VERSION\")\n",
    ")"
   ]
  },
  {
   "cell_type": "code",
   "execution_count": 9,
   "metadata": {},
   "outputs": [],
   "source": [
    "# Helper function to run the conversation\n",
    "def run_conversation(messages):\n",
    "    # Step 1: Sending the conversation and available functions to the model\n",
    "    response = client.chat.completions.create(\n",
    "        model = os.getenv(\"OPENAI_API_DEPLOY\"), # model = \"Azure OpenAI deployment name\".\n",
    "        messages = messages,\n",
    "        tools = tools,\n",
    "        tool_choice = \"auto\",  # auto is default, but we'll be explicit\n",
    "    )\n",
    "    response_message = response.choices[0].message    \n",
    "    tool_calls = response_message.tool_calls\n",
    "\n",
    "    # Fix as per the issue # https://github.com/openai/openai-python/issues/703\n",
    "    response_message = json.loads(response.choices[0].message.model_dump_json())\n",
    "    if response_message[\"content\"] is None:\n",
    "        response_message[\"content\"] = \"\"\n",
    "    if response_message[\"function_call\"] is None:\n",
    "        del response_message[\"function_call\"]\n",
    "\n",
    "    # Checking the response JSON structure\n",
    "    # print(response.model_dump_json(indent=2))\n",
    "\n",
    "    # Step 2: Checking if the model wanted to call a function\n",
    "    if tool_calls:\n",
    "        # Step 3: Extending conversation with a function reply        \n",
    "        messages.append(response_message)\n",
    "\n",
    "        # Step 4: Sending each function's response to the model\n",
    "        for tool_call in tool_calls:\n",
    "            function_name = tool_call.function.name\n",
    "            function_to_call = available_functions[function_name]\n",
    "            if function_name == \"set_vehicle_feature_on_off\":\n",
    "                action = \"switch\"\n",
    "            elif function_name == \"set_vehicle_feature_up_down\":\n",
    "                action = \"roll\"\n",
    "            function_args = json.loads(tool_call.function.arguments)\n",
    "            function_response = function_to_call(\n",
    "                feature = function_args.get(\"feature\"),\n",
    "                status = function_args.get(\"status\"),\n",
    "                action = action\n",
    "            )\n",
    "            if function_response:\n",
    "                function_response = f\"{list(function_response.keys())[0]} is {list(function_response.keys())[0]}\"\n",
    "            messages.append(\n",
    "                {\n",
    "                    \"tool_call_id\": tool_call.id,\n",
    "                    \"role\": \"tool\",\n",
    "                    \"name\": function_name,\n",
    "                    \"content\": function_response\n",
    "                }\n",
    "            )\n",
    "        # Step 5: Sending the updated conversation to the model\n",
    "        second_response = client.chat.completions.create(\n",
    "            model = os.getenv(\"OPENAI_API_DEPLOY\"), # model = \"Azure OpenAI deployment name\".\n",
    "            messages=messages\n",
    "        )\n",
    "        return second_response"
   ]
  },
  {
   "cell_type": "markdown",
   "metadata": {},
   "source": [
    "### 4. Practical testing of parallel function calling\n",
    "This part may fail, if you use outdated version of pydantic package.\n",
    "Can be resolved with **pip install --upgrade pydantic**, as per this reported issue: https://github.com/openai/openai-python/issues/703. "
   ]
  },
  {
   "cell_type": "code",
   "execution_count": 10,
   "metadata": {},
   "outputs": [
    {
     "name": "stdout",
     "output_type": "stream",
     "text": [
      "The air conditioner is now switched off, and the windows have been rolled down. Enjoy the breeze!\n"
     ]
    }
   ],
   "source": [
    "# Submitting a completion request to Azure OpenAI GPT model v1106\n",
    "messages = [\n",
    "    {\"role\": \"system\", \"content\": \"You are a smart in-car assistant. Your listen to commands and control vehicle features like air conditioner, lights, radio and windows.\"},\n",
    "    {\"role\": \"user\", \"content\": \"Please, switch off the air conditioner and roll the windows down.\"}\n",
    "]\n",
    "final_response = run_conversation(messages)\n",
    "print(final_response.choices[0].message.content)"
   ]
  },
  {
   "cell_type": "code",
   "execution_count": null,
   "metadata": {},
   "outputs": [],
   "source": []
  }
 ],
 "metadata": {
  "kernelspec": {
   "display_name": "Python 3",
   "language": "python",
   "name": "python3"
  },
  "language_info": {
   "codemirror_mode": {
    "name": "ipython",
    "version": 3
   },
   "file_extension": ".py",
   "mimetype": "text/x-python",
   "name": "python",
   "nbconvert_exporter": "python",
   "pygments_lexer": "ipython3",
   "version": "3.8.10"
  },
  "orig_nbformat": 4
 },
 "nbformat": 4,
 "nbformat_minor": 2
}
